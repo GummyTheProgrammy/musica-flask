{
 "cells": [
  {
   "cell_type": "markdown",
   "id": "e9d83c06",
   "metadata": {},
   "source": [
    "**Este texto está em negrito**\n",
    "*Este texto está em itálico*\n",
    "# Título 1 (Fonte Grande)\n",
    "## Título 2\n",
    "### Título 3\n",
    "#### Título 4 (Fonte Pequena)\n",
    "Para rodar o código, use o comando `print()`.\n",
    "\n",
    "\n",
    "- Item 1\n",
    "- Item 2\n",
    "\n",
    "1. Primeiro item\n",
    "2. Segundo item\n",
    "\n",
    "[Clique aqui para ir para o Google](https://www.google.com)"
   ]
  }
 ],
 "metadata": {
  "language_info": {
   "name": "python"
  }
 },
 "nbformat": 4,
 "nbformat_minor": 5
}
